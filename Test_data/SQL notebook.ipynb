{
 "cells": [
  {
   "cell_type": "code",
   "execution_count": 1,
   "metadata": {},
   "outputs": [],
   "source": [
    "import numpy as np\n",
    "import pandas as pd"
   ]
  },
  {
   "cell_type": "code",
   "execution_count": 2,
   "metadata": {},
   "outputs": [],
   "source": [
    "insurance_data = pd.read_csv('insurance.csv')"
   ]
  },
  {
   "cell_type": "code",
   "execution_count": 4,
   "metadata": {},
   "outputs": [
    {
     "data": {
      "text/html": [
       "<div>\n",
       "<style scoped>\n",
       "    .dataframe tbody tr th:only-of-type {\n",
       "        vertical-align: middle;\n",
       "    }\n",
       "\n",
       "    .dataframe tbody tr th {\n",
       "        vertical-align: top;\n",
       "    }\n",
       "\n",
       "    .dataframe thead th {\n",
       "        text-align: right;\n",
       "    }\n",
       "</style>\n",
       "<table border=\"1\" class=\"dataframe\">\n",
       "  <thead>\n",
       "    <tr style=\"text-align: right;\">\n",
       "      <th></th>\n",
       "      <th>age</th>\n",
       "      <th>sex</th>\n",
       "      <th>bmi</th>\n",
       "      <th>children</th>\n",
       "      <th>smoker</th>\n",
       "      <th>region</th>\n",
       "      <th>charges</th>\n",
       "    </tr>\n",
       "  </thead>\n",
       "  <tbody>\n",
       "    <tr>\n",
       "      <th>0</th>\n",
       "      <td>19</td>\n",
       "      <td>female</td>\n",
       "      <td>27.900</td>\n",
       "      <td>0</td>\n",
       "      <td>yes</td>\n",
       "      <td>southwest</td>\n",
       "      <td>16884.92400</td>\n",
       "    </tr>\n",
       "    <tr>\n",
       "      <th>1</th>\n",
       "      <td>18</td>\n",
       "      <td>male</td>\n",
       "      <td>33.770</td>\n",
       "      <td>1</td>\n",
       "      <td>no</td>\n",
       "      <td>southeast</td>\n",
       "      <td>1725.55230</td>\n",
       "    </tr>\n",
       "    <tr>\n",
       "      <th>2</th>\n",
       "      <td>28</td>\n",
       "      <td>male</td>\n",
       "      <td>33.000</td>\n",
       "      <td>3</td>\n",
       "      <td>no</td>\n",
       "      <td>southeast</td>\n",
       "      <td>4449.46200</td>\n",
       "    </tr>\n",
       "    <tr>\n",
       "      <th>3</th>\n",
       "      <td>33</td>\n",
       "      <td>male</td>\n",
       "      <td>22.705</td>\n",
       "      <td>0</td>\n",
       "      <td>no</td>\n",
       "      <td>northwest</td>\n",
       "      <td>21984.47061</td>\n",
       "    </tr>\n",
       "    <tr>\n",
       "      <th>4</th>\n",
       "      <td>32</td>\n",
       "      <td>male</td>\n",
       "      <td>28.880</td>\n",
       "      <td>0</td>\n",
       "      <td>no</td>\n",
       "      <td>northwest</td>\n",
       "      <td>3866.85520</td>\n",
       "    </tr>\n",
       "  </tbody>\n",
       "</table>\n",
       "</div>"
      ],
      "text/plain": [
       "   age     sex     bmi  children smoker     region      charges\n",
       "0   19  female  27.900         0    yes  southwest  16884.92400\n",
       "1   18    male  33.770         1     no  southeast   1725.55230\n",
       "2   28    male  33.000         3     no  southeast   4449.46200\n",
       "3   33    male  22.705         0     no  northwest  21984.47061\n",
       "4   32    male  28.880         0     no  northwest   3866.85520"
      ]
     },
     "execution_count": 4,
     "metadata": {},
     "output_type": "execute_result"
    }
   ],
   "source": [
    "insurance_data.head()"
   ]
  },
  {
   "cell_type": "code",
   "execution_count": 5,
   "metadata": {},
   "outputs": [],
   "source": [
    "#split data into test and train set\n",
    "x = insurance_data.drop('charges', axis=1).values\n",
    "y = insurance_data['charges'].values"
   ]
  },
  {
   "cell_type": "code",
   "execution_count": 6,
   "metadata": {},
   "outputs": [],
   "source": [
    "from sklearn.model_selection import train_test_split"
   ]
  },
  {
   "cell_type": "code",
   "execution_count": 7,
   "metadata": {},
   "outputs": [],
   "source": [
    "x_train,x_test,y_train,y_test = train_test_split(x,y, random_state = 0)"
   ]
  },
  {
   "cell_type": "code",
   "execution_count": 8,
   "metadata": {},
   "outputs": [
    {
     "data": {
      "text/plain": [
       "array([[52, 'male', 30.2, 1, 'no', 'southwest'],\n",
       "       [47, 'female', 29.37, 1, 'no', 'southeast'],\n",
       "       [48, 'male', 40.565, 2, 'yes', 'northwest'],\n",
       "       ...,\n",
       "       [51, 'male', 30.03, 1, 'no', 'southeast'],\n",
       "       [23, 'male', 37.1, 3, 'no', 'southwest'],\n",
       "       [61, 'female', 29.07, 0, 'yes', 'northwest']], dtype=object)"
      ]
     },
     "execution_count": 8,
     "metadata": {},
     "output_type": "execute_result"
    }
   ],
   "source": [
    "x_test"
   ]
  },
  {
   "cell_type": "code",
   "execution_count": 9,
   "metadata": {},
   "outputs": [
    {
     "data": {
      "text/plain": [
       "(335, 6)"
      ]
     },
     "execution_count": 9,
     "metadata": {},
     "output_type": "execute_result"
    }
   ],
   "source": [
    "x_test.shape"
   ]
  },
  {
   "cell_type": "code",
   "execution_count": 10,
   "metadata": {},
   "outputs": [],
   "source": [
    "#convert x test from numpy array to dataframe\n",
    "test_data = pd.DataFrame(x_test, columns=['age','sex','bmi','children','smoker','region',])"
   ]
  },
  {
   "cell_type": "code",
   "execution_count": 13,
   "metadata": {},
   "outputs": [
    {
     "data": {
      "text/html": [
       "<div>\n",
       "<style scoped>\n",
       "    .dataframe tbody tr th:only-of-type {\n",
       "        vertical-align: middle;\n",
       "    }\n",
       "\n",
       "    .dataframe tbody tr th {\n",
       "        vertical-align: top;\n",
       "    }\n",
       "\n",
       "    .dataframe thead th {\n",
       "        text-align: right;\n",
       "    }\n",
       "</style>\n",
       "<table border=\"1\" class=\"dataframe\">\n",
       "  <thead>\n",
       "    <tr style=\"text-align: right;\">\n",
       "      <th></th>\n",
       "      <th>age</th>\n",
       "      <th>sex</th>\n",
       "      <th>bmi</th>\n",
       "      <th>children</th>\n",
       "      <th>smoker</th>\n",
       "      <th>region</th>\n",
       "    </tr>\n",
       "  </thead>\n",
       "  <tbody>\n",
       "    <tr>\n",
       "      <th>0</th>\n",
       "      <td>52</td>\n",
       "      <td>male</td>\n",
       "      <td>30.2</td>\n",
       "      <td>1</td>\n",
       "      <td>no</td>\n",
       "      <td>southwest</td>\n",
       "    </tr>\n",
       "    <tr>\n",
       "      <th>1</th>\n",
       "      <td>47</td>\n",
       "      <td>female</td>\n",
       "      <td>29.37</td>\n",
       "      <td>1</td>\n",
       "      <td>no</td>\n",
       "      <td>southeast</td>\n",
       "    </tr>\n",
       "    <tr>\n",
       "      <th>2</th>\n",
       "      <td>48</td>\n",
       "      <td>male</td>\n",
       "      <td>40.565</td>\n",
       "      <td>2</td>\n",
       "      <td>yes</td>\n",
       "      <td>northwest</td>\n",
       "    </tr>\n",
       "    <tr>\n",
       "      <th>3</th>\n",
       "      <td>61</td>\n",
       "      <td>male</td>\n",
       "      <td>38.38</td>\n",
       "      <td>0</td>\n",
       "      <td>no</td>\n",
       "      <td>northwest</td>\n",
       "    </tr>\n",
       "    <tr>\n",
       "      <th>4</th>\n",
       "      <td>51</td>\n",
       "      <td>female</td>\n",
       "      <td>18.05</td>\n",
       "      <td>0</td>\n",
       "      <td>no</td>\n",
       "      <td>northwest</td>\n",
       "    </tr>\n",
       "  </tbody>\n",
       "</table>\n",
       "</div>"
      ],
      "text/plain": [
       "  age     sex     bmi children smoker     region\n",
       "0  52    male    30.2        1     no  southwest\n",
       "1  47  female   29.37        1     no  southeast\n",
       "2  48    male  40.565        2    yes  northwest\n",
       "3  61    male   38.38        0     no  northwest\n",
       "4  51  female   18.05        0     no  northwest"
      ]
     },
     "execution_count": 13,
     "metadata": {},
     "output_type": "execute_result"
    }
   ],
   "source": [
    "test_data.head()"
   ]
  },
  {
   "cell_type": "code",
   "execution_count": 20,
   "metadata": {},
   "outputs": [
    {
     "name": "stdout",
     "output_type": "stream",
     "text": [
      "<class 'pandas.core.frame.DataFrame'>\n",
      "RangeIndex: 335 entries, 0 to 334\n",
      "Data columns (total 6 columns):\n",
      " #   Column    Non-Null Count  Dtype \n",
      "---  ------    --------------  ----- \n",
      " 0   age       335 non-null    object\n",
      " 1   sex       335 non-null    object\n",
      " 2   bmi       335 non-null    object\n",
      " 3   children  335 non-null    object\n",
      " 4   smoker    335 non-null    object\n",
      " 5   region    335 non-null    object\n",
      "dtypes: object(6)\n",
      "memory usage: 15.8+ KB\n"
     ]
    }
   ],
   "source": [
    "test_data.info()"
   ]
  },
  {
   "cell_type": "markdown",
   "metadata": {},
   "source": [
    "export x data as csv file"
   ]
  },
  {
   "cell_type": "code",
   "execution_count": 23,
   "metadata": {},
   "outputs": [],
   "source": [
    "test_data.to_csv('test_data.csv')"
   ]
  },
  {
   "cell_type": "code",
   "execution_count": 21,
   "metadata": {},
   "outputs": [],
   "source": [
    "#import dependencies\n",
    "import sqlite3 as sql\n",
    "import numpy as np\n",
    "import pandas as pd"
   ]
  },
  {
   "cell_type": "code",
   "execution_count": 24,
   "metadata": {},
   "outputs": [
    {
     "name": "stdout",
     "output_type": "stream",
     "text": [
      "   age     sex     bmi  children smoker     region\n",
      "0   52    male  30.200         1     no  southwest\n",
      "1   47  female  29.370         1     no  southeast\n",
      "2   48    male  40.565         2    yes  northwest\n",
      "3   61    male  38.380         0     no  northwest\n",
      "4   51  female  18.050         0     no  northwest\n"
     ]
    }
   ],
   "source": [
    "#connect to database\n",
    "con = sql.connect('test_data.db')\n",
    "test_data = pd.read_sql_query('SELECT * from test_data', con)\n",
    "c=con.cursor()\n",
    "\n",
    "print(test_data.head())"
   ]
  },
  {
   "cell_type": "code",
   "execution_count": 25,
   "metadata": {},
   "outputs": [
    {
     "name": "stdout",
     "output_type": "stream",
     "text": [
      "[('no',), ('no',), ('yes',), ('no',), ('no',), ('no',), ('no',), ('no',), ('no',), ('no',), ('no',), ('no',), ('no',), ('no',), ('yes',), ('no',), ('no',), ('no',), ('no',), ('yes',), ('yes',), ('no',), ('no',), ('yes',), ('no',), ('no',), ('no',), ('no',), ('no',), ('no',), ('no',), ('yes',), ('no',), ('no',), ('yes',), ('no',), ('no',), ('yes',), ('yes',), ('no',), ('no',), ('no',), ('yes',), ('yes',), ('yes',), ('no',), ('no',), ('no',), ('no',), ('no',), ('no',), ('no',), ('yes',), ('yes',), ('no',), ('no',), ('no',), ('no',), ('no',), ('no',), ('no',), ('yes',), ('no',), ('no',), ('no',), ('no',), ('yes',), ('yes',), ('no',), ('no',), ('no',), ('no',), ('yes',), ('no',), ('no',), ('no',), ('no',), ('no',), ('yes',), ('yes',), ('no',), ('yes',), ('no',), ('no',), ('yes',), ('yes',), ('no',), ('no',), ('no',), ('yes',), ('no',), ('no',), ('no',), ('no',), ('no',), ('no',), ('yes',), ('yes',), ('no',), ('no',), ('no',), ('no',), ('no',), ('yes',), ('yes',), ('no',), ('no',), ('no',), ('no',), ('yes',), ('no',), ('no',), ('no',), ('yes',), ('yes',), ('no',), ('no',), ('no',), ('no',), ('no',), ('yes',), ('no',), ('no',), ('no',), ('no',), ('no',), ('yes',), ('yes',), ('yes',), ('no',), ('no',), ('no',), ('no',), ('no',), ('yes',), ('yes',), ('yes',), ('no',), ('yes',), ('no',), ('no',), ('no',), ('no',), ('no',), ('no',), ('no',), ('no',), ('no',), ('no',), ('no',), ('no',), ('yes',), ('no',), ('no',), ('no',), ('no',), ('no',), ('no',), ('no',), ('no',), ('no',), ('no',), ('no',), ('no',), ('no',), ('no',), ('yes',), ('no',), ('no',), ('no',), ('no',), ('no',), ('no',), ('no',), ('no',), ('no',), ('no',), ('no',), ('yes',), ('no',), ('no',), ('no',), ('no',), ('no',), ('no',), ('yes',), ('no',), ('no',), ('no',), ('no',), ('yes',), ('no',), ('no',), ('yes',), ('no',), ('no',), ('no',), ('no',), ('no',), ('no',), ('no',), ('yes',), ('no',), ('yes',), ('no',), ('yes',), ('no',), ('no',), ('no',), ('no',), ('no',), ('no',), ('no',), ('no',), ('no',), ('no',), ('no',), ('no',), ('no',), ('no',), ('no',), ('no',), ('no',), ('no',), ('no',), ('no',), ('no',), ('no',), ('no',), ('no',), ('no',), ('no',), ('no',), ('no',), ('no',), ('no',), ('no',), ('yes',), ('no',), ('no',), ('no',), ('yes',), ('no',), ('no',), ('no',), ('no',), ('no',), ('no',), ('no',), ('no',), ('yes',), ('yes',), ('no',), ('no',), ('no',), ('no',), ('no',), ('no',), ('no',), ('no',), ('no',), ('yes',), ('yes',), ('no',), ('no',), ('no',), ('yes',), ('no',), ('yes',), ('no',), ('yes',), ('no',), ('no',), ('no',), ('yes',), ('no',), ('no',), ('no',), ('no',), ('no',), ('no',), ('no',), ('no',), ('no',), ('no',), ('no',), ('no',), ('yes',), ('no',), ('no',), ('no',), ('yes',), ('no',), ('no',), ('no',), ('no',), ('yes',), ('no',), ('no',), ('no',), ('no',), ('no',), ('yes',), ('yes',), ('no',), ('no',), ('no',), ('no',), ('no',), ('yes',), ('yes',), ('no',), ('yes',), ('no',), ('no',), ('no',), ('no',), ('no',), ('no',), ('yes',), ('no',), ('no',), ('no',), ('no',), ('no',), ('no',), ('yes',), ('yes',), ('no',), ('yes',), ('no',), ('no',), ('no',), ('no',), ('yes',)]\n"
     ]
    }
   ],
   "source": [
    "#Query testdata\n",
    "c.execute('SELECT smoker FROM test_data')\n",
    "print(c.fetchall())"
   ]
  },
  {
   "cell_type": "code",
   "execution_count": 26,
   "metadata": {},
   "outputs": [
    {
     "name": "stdout",
     "output_type": "stream",
     "text": [
      "[(30.2,), (29.37,), (40.565,), (38.38,), (18.05,), (21.375,), (26.315,), (36.385,), (30.21,), (31.065,)]\n"
     ]
    }
   ],
   "source": [
    "c.execute('SELECT bmi FROM test_data')\n",
    "print(c.fetchmany(10))"
   ]
  },
  {
   "cell_type": "code",
   "execution_count": 28,
   "metadata": {},
   "outputs": [
    {
     "name": "stdout",
     "output_type": "stream",
     "text": [
      "(52,)\n"
     ]
    }
   ],
   "source": [
    "c.execute('SELECT age FROM test_data')\n",
    "print(c.fetchone())"
   ]
  },
  {
   "cell_type": "code",
   "execution_count": 30,
   "metadata": {},
   "outputs": [
    {
     "name": "stdout",
     "output_type": "stream",
     "text": [
      "    0       1       2  3    4          5\n",
      "0  52    male  30.200  1   no  southwest\n",
      "1  47  female  29.370  1   no  southeast\n",
      "2  48    male  40.565  2  yes  northwest\n",
      "3  61    male  38.380  0   no  northwest\n",
      "4  51  female  18.050  0   no  northwest\n",
      "5  34    male  21.375  0   no  northeast\n",
      "6  18  female  26.315  0   no  northeast\n",
      "7  51  female  36.385  3   no  northwest\n",
      "8  38  female  30.210  3   no  northwest\n",
      "9  31    male  31.065  3   no  northwest\n"
     ]
    }
   ],
   "source": [
    "c.execute('SELECT age,sex,bmi,children,smoker,region FROM test_data')\n",
    "x=c.fetchmany(10)\n",
    "df = pd.DataFrame(x)\n",
    "print(df)"
   ]
  },
  {
   "cell_type": "code",
   "execution_count": 31,
   "metadata": {},
   "outputs": [
    {
     "name": "stdout",
     "output_type": "stream",
     "text": [
      "    0       1       2  3    4          5\n",
      "0  18  female  26.315  0   no  northeast\n",
      "1  20    male  30.685  0  yes  northeast\n",
      "2  20  female  33.300  0   no  southwest\n",
      "3  18  female  36.850  0  yes  southeast\n",
      "4  21  female  32.680  2   no  northwest\n",
      "5  19  female  27.930  3   no  northwest\n",
      "6  19    male  28.700  0   no  southwest\n",
      "7  19    male  30.250  0  yes  southeast\n",
      "8  21  female  21.890  2   no  southeast\n",
      "9  20    male  27.300  0  yes  southwest\n"
     ]
    }
   ],
   "source": [
    "c.execute('SELECT age,sex,bmi,children,smoker,region FROM test_data WHERE age < 22')\n",
    "y=c.fetchmany(10)\n",
    "df = pd.DataFrame(y)\n",
    "print(df)"
   ]
  },
  {
   "cell_type": "code",
   "execution_count": null,
   "metadata": {},
   "outputs": [],
   "source": []
  }
 ],
 "metadata": {
  "kernelspec": {
   "display_name": "Python 3",
   "language": "python",
   "name": "python3"
  },
  "language_info": {
   "codemirror_mode": {
    "name": "ipython",
    "version": 3
   },
   "file_extension": ".py",
   "mimetype": "text/x-python",
   "name": "python",
   "nbconvert_exporter": "python",
   "pygments_lexer": "ipython3",
   "version": "3.7.6"
  }
 },
 "nbformat": 4,
 "nbformat_minor": 4
}
